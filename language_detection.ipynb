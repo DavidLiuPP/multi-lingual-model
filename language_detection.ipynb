{
 "cells": [
  {
   "cell_type": "code",
   "execution_count": 14,
   "id": "21a4f3ec-6462-47a2-ab61-87c8040e60ba",
   "metadata": {},
   "outputs": [
    {
     "name": "stdout",
     "output_type": "stream",
     "text": [
      "Requirement already satisfied: langdetect in /opt/conda/lib/python3.10/site-packages (1.0.9)\n",
      "Requirement already satisfied: six in /opt/conda/lib/python3.10/site-packages (from langdetect) (1.16.0)\n",
      "Collecting iso-639\n",
      "  Downloading iso-639-0.4.5.tar.gz (167 kB)\n",
      "\u001b[2K     \u001b[90m━━━━━━━━━━━━━━━━━━━━━━━━━━━━━━━━━━━━━━\u001b[0m \u001b[32m167.4/167.4 kB\u001b[0m \u001b[31m20.3 MB/s\u001b[0m eta \u001b[36m0:00:00\u001b[0m\n",
      "\u001b[?25h  Preparing metadata (setup.py) ... \u001b[?25ldone\n",
      "\u001b[?25hBuilding wheels for collected packages: iso-639\n",
      "  Building wheel for iso-639 (setup.py) ... \u001b[?25ldone\n",
      "\u001b[?25h  Created wheel for iso-639: filename=iso_639-0.4.5-py3-none-any.whl size=168840 sha256=d8896f77eb93e3bb1c44360920bbc0d49206621dde6977067630e90e054f0245\n",
      "  Stored in directory: /home/sagemaker-user/.cache/pip/wheels/d8/78/cc/5478ca3b1c3f602eae6f8cdbd78f909c0a0bfa0bbcb5c7771f\n",
      "Successfully built iso-639\n",
      "Installing collected packages: iso-639\n",
      "Successfully installed iso-639-0.4.5\n",
      "Requirement already satisfied: swifter in /opt/conda/lib/python3.10/site-packages (1.4.0)\n",
      "Requirement already satisfied: pandas>=1.0.0 in /opt/conda/lib/python3.10/site-packages (from swifter) (2.1.4)\n",
      "Requirement already satisfied: psutil>=5.6.6 in /opt/conda/lib/python3.10/site-packages (from swifter) (5.9.8)\n",
      "Requirement already satisfied: dask>=2.10.0 in /opt/conda/lib/python3.10/site-packages (from dask[dataframe]>=2.10.0->swifter) (2024.3.1)\n",
      "Requirement already satisfied: tqdm>=4.33.0 in /opt/conda/lib/python3.10/site-packages (from swifter) (4.66.2)\n",
      "Requirement already satisfied: click>=8.1 in /opt/conda/lib/python3.10/site-packages (from dask>=2.10.0->dask[dataframe]>=2.10.0->swifter) (8.1.7)\n",
      "Requirement already satisfied: cloudpickle>=1.5.0 in /opt/conda/lib/python3.10/site-packages (from dask>=2.10.0->dask[dataframe]>=2.10.0->swifter) (2.2.1)\n",
      "Requirement already satisfied: fsspec>=2021.09.0 in /opt/conda/lib/python3.10/site-packages (from dask>=2.10.0->dask[dataframe]>=2.10.0->swifter) (2023.6.0)\n",
      "Requirement already satisfied: packaging>=20.0 in /opt/conda/lib/python3.10/site-packages (from dask>=2.10.0->dask[dataframe]>=2.10.0->swifter) (23.2)\n",
      "Requirement already satisfied: partd>=1.2.0 in /opt/conda/lib/python3.10/site-packages (from dask>=2.10.0->dask[dataframe]>=2.10.0->swifter) (1.4.1)\n",
      "Requirement already satisfied: pyyaml>=5.3.1 in /opt/conda/lib/python3.10/site-packages (from dask>=2.10.0->dask[dataframe]>=2.10.0->swifter) (6.0.1)\n",
      "Requirement already satisfied: toolz>=0.10.0 in /opt/conda/lib/python3.10/site-packages (from dask>=2.10.0->dask[dataframe]>=2.10.0->swifter) (0.12.1)\n",
      "Requirement already satisfied: importlib-metadata>=4.13.0 in /opt/conda/lib/python3.10/site-packages (from dask>=2.10.0->dask[dataframe]>=2.10.0->swifter) (6.10.0)\n",
      "Requirement already satisfied: dask-expr<1.1,>=1.0 in /opt/conda/lib/python3.10/site-packages (from dask[dataframe]>=2.10.0->swifter) (1.0.5)\n",
      "Requirement already satisfied: numpy<2,>=1.22.4 in /opt/conda/lib/python3.10/site-packages (from pandas>=1.0.0->swifter) (1.26.4)\n",
      "Requirement already satisfied: python-dateutil>=2.8.2 in /opt/conda/lib/python3.10/site-packages (from pandas>=1.0.0->swifter) (2.9.0)\n",
      "Requirement already satisfied: pytz>=2020.1 in /opt/conda/lib/python3.10/site-packages (from pandas>=1.0.0->swifter) (2023.3)\n",
      "Requirement already satisfied: tzdata>=2022.1 in /opt/conda/lib/python3.10/site-packages (from pandas>=1.0.0->swifter) (2024.1)\n",
      "Requirement already satisfied: pyarrow>=7.0.0 in /opt/conda/lib/python3.10/site-packages (from dask-expr<1.1,>=1.0->dask[dataframe]>=2.10.0->swifter) (12.0.1)\n",
      "Requirement already satisfied: zipp>=0.5 in /opt/conda/lib/python3.10/site-packages (from importlib-metadata>=4.13.0->dask>=2.10.0->dask[dataframe]>=2.10.0->swifter) (3.17.0)\n",
      "Requirement already satisfied: locket in /opt/conda/lib/python3.10/site-packages (from partd>=1.2.0->dask>=2.10.0->dask[dataframe]>=2.10.0->swifter) (1.0.0)\n",
      "Requirement already satisfied: six>=1.5 in /opt/conda/lib/python3.10/site-packages (from python-dateutil>=2.8.2->pandas>=1.0.0->swifter) (1.16.0)\n"
     ]
    }
   ],
   "source": [
    "!pip install langdetect\n",
    "!pip install iso-639\n",
    "!pip install swifter"
   ]
  },
  {
   "cell_type": "code",
   "execution_count": 15,
   "id": "fb0ca216-1b17-4970-b45f-9581e023d755",
   "metadata": {},
   "outputs": [],
   "source": [
    "import pandas as pd\n",
    "from langdetect import detect\n",
    "from iso639 import languages\n",
    "import swifter"
   ]
  },
  {
   "cell_type": "code",
   "execution_count": 42,
   "id": "d977c265-8fae-43fb-88f9-6b7d9331251a",
   "metadata": {},
   "outputs": [],
   "source": [
    "df1 = pd.read_pickle('email-processed-data_0502.pkl')\n",
    "df2 = pd.read_pickle('email-processed-data_0503.pkl')\n",
    "df3 = pd.read_pickle('email-processed-data_0506.pkl')\n",
    "df4 = pd.read_pickle('email-processed-data_0507.pkl')\n",
    "df = pd.concat([df1, df2, df3, df4])\n",
    "df = df[['email_body', 'subject']]\n",
    "df = df.drop_duplicates()\n",
    "df = df.reset_index(drop=True)"
   ]
  },
  {
   "cell_type": "code",
   "execution_count": 39,
   "id": "b469ce33-b8d8-4792-8bb5-69f53fcb4f74",
   "metadata": {},
   "outputs": [],
   "source": [
    "def language(x):\n",
    "    try:\n",
    "        return languages.get(alpha2=detect(x)).name\n",
    "    except:\n",
    "        return None"
   ]
  },
  {
   "cell_type": "code",
   "execution_count": 43,
   "id": "57dddb0f-7771-43dc-87ff-3e238097d350",
   "metadata": {},
   "outputs": [
    {
     "data": {
      "application/vnd.jupyter.widget-view+json": {
       "model_id": "59c2a957684a4a5994c77840db7c45a9",
       "version_major": 2,
       "version_minor": 0
      },
      "text/plain": [
       "Pandas Apply:   0%|          | 0/12733 [00:00<?, ?it/s]"
      ]
     },
     "metadata": {},
     "output_type": "display_data"
    }
   ],
   "source": [
    "df['language'] = df['email_body'].swifter.apply(language)"
   ]
  },
  {
   "cell_type": "code",
   "execution_count": 44,
   "id": "1342e561-701d-45ff-bba0-584a2da0107f",
   "metadata": {},
   "outputs": [
    {
     "data": {
      "text/html": [
       "<div>\n",
       "<style scoped>\n",
       "    .dataframe tbody tr th:only-of-type {\n",
       "        vertical-align: middle;\n",
       "    }\n",
       "\n",
       "    .dataframe tbody tr th {\n",
       "        vertical-align: top;\n",
       "    }\n",
       "\n",
       "    .dataframe thead th {\n",
       "        text-align: right;\n",
       "    }\n",
       "</style>\n",
       "<table border=\"1\" class=\"dataframe\">\n",
       "  <thead>\n",
       "    <tr style=\"text-align: right;\">\n",
       "      <th></th>\n",
       "      <th>email_body</th>\n",
       "    </tr>\n",
       "    <tr>\n",
       "      <th>language</th>\n",
       "      <th></th>\n",
       "    </tr>\n",
       "  </thead>\n",
       "  <tbody>\n",
       "    <tr>\n",
       "      <th>Afrikaans</th>\n",
       "      <td>1</td>\n",
       "    </tr>\n",
       "    <tr>\n",
       "      <th>Catalan</th>\n",
       "      <td>26</td>\n",
       "    </tr>\n",
       "    <tr>\n",
       "      <th>Danish</th>\n",
       "      <td>2</td>\n",
       "    </tr>\n",
       "    <tr>\n",
       "      <th>Dutch</th>\n",
       "      <td>1716</td>\n",
       "    </tr>\n",
       "    <tr>\n",
       "      <th>English</th>\n",
       "      <td>10162</td>\n",
       "    </tr>\n",
       "    <tr>\n",
       "      <th>Estonian</th>\n",
       "      <td>9</td>\n",
       "    </tr>\n",
       "    <tr>\n",
       "      <th>French</th>\n",
       "      <td>6</td>\n",
       "    </tr>\n",
       "    <tr>\n",
       "      <th>German</th>\n",
       "      <td>759</td>\n",
       "    </tr>\n",
       "    <tr>\n",
       "      <th>Latvian</th>\n",
       "      <td>1</td>\n",
       "    </tr>\n",
       "    <tr>\n",
       "      <th>Lithuanian</th>\n",
       "      <td>1</td>\n",
       "    </tr>\n",
       "    <tr>\n",
       "      <th>Norwegian</th>\n",
       "      <td>5</td>\n",
       "    </tr>\n",
       "    <tr>\n",
       "      <th>Polish</th>\n",
       "      <td>21</td>\n",
       "    </tr>\n",
       "    <tr>\n",
       "      <th>Portuguese</th>\n",
       "      <td>2</td>\n",
       "    </tr>\n",
       "    <tr>\n",
       "      <th>Romanian</th>\n",
       "      <td>5</td>\n",
       "    </tr>\n",
       "    <tr>\n",
       "      <th>Slovenian</th>\n",
       "      <td>1</td>\n",
       "    </tr>\n",
       "    <tr>\n",
       "      <th>Somali</th>\n",
       "      <td>2</td>\n",
       "    </tr>\n",
       "    <tr>\n",
       "      <th>Spanish</th>\n",
       "      <td>9</td>\n",
       "    </tr>\n",
       "    <tr>\n",
       "      <th>Tagalog</th>\n",
       "      <td>4</td>\n",
       "    </tr>\n",
       "    <tr>\n",
       "      <th>Vietnamese</th>\n",
       "      <td>1</td>\n",
       "    </tr>\n",
       "  </tbody>\n",
       "</table>\n",
       "</div>"
      ],
      "text/plain": [
       "            email_body\n",
       "language              \n",
       "Afrikaans            1\n",
       "Catalan             26\n",
       "Danish               2\n",
       "Dutch             1716\n",
       "English          10162\n",
       "Estonian             9\n",
       "French               6\n",
       "German             759\n",
       "Latvian              1\n",
       "Lithuanian           1\n",
       "Norwegian            5\n",
       "Polish              21\n",
       "Portuguese           2\n",
       "Romanian             5\n",
       "Slovenian            1\n",
       "Somali               2\n",
       "Spanish              9\n",
       "Tagalog              4\n",
       "Vietnamese           1"
      ]
     },
     "execution_count": 44,
     "metadata": {},
     "output_type": "execute_result"
    }
   ],
   "source": [
    "df[['email_body', 'language']].groupby(['language']).count()"
   ]
  },
  {
   "cell_type": "code",
   "execution_count": 45,
   "id": "8386defc-d8f1-4e4a-9fa5-cb369e1b9f6d",
   "metadata": {},
   "outputs": [
    {
     "data": {
      "text/plain": [
       "<Axes: xlabel='language'>"
      ]
     },
     "execution_count": 45,
     "metadata": {},
     "output_type": "execute_result"
    },
    {
     "data": {
      "image/png": "[encoded data removed]",
      "text/plain": [
       "<Figure size 640x480 with 1 Axes>"
      ]
     },
     "metadata": {},
     "output_type": "display_data"
    }
   ],
   "source": [
    "df['language'].value_counts().plot(kind='bar')"
   ]
  },
  {
   "cell_type": "code",
   "execution_count": 49,
   "id": "08cbf753-5d48-4d99-9554-84a8197817f3",
   "metadata": {},
   "outputs": [
    {
     "data": {
      "text/html": [
       "<div>\n",
       "<style scoped>\n",
       "    .dataframe tbody tr th:only-of-type {\n",
       "        vertical-align: middle;\n",
       "    }\n",
       "\n",
       "    .dataframe tbody tr th {\n",
       "        vertical-align: top;\n",
       "    }\n",
       "\n",
       "    .dataframe thead th {\n",
       "        text-align: right;\n",
       "    }\n",
       "</style>\n",
       "<table border=\"1\" class=\"dataframe\">\n",
       "  <thead>\n",
       "    <tr style=\"text-align: right;\">\n",
       "      <th></th>\n",
       "      <th>email_body</th>\n",
       "      <th>subject</th>\n",
       "      <th>language</th>\n",
       "    </tr>\n",
       "  </thead>\n",
       "  <tbody>\n",
       "    <tr>\n",
       "      <th>0</th>\n",
       "      <td>Add one of these board seats to your credentia...</td>\n",
       "      <td>5 Boards to Boost Your Credentials in May</td>\n",
       "      <td>English</td>\n",
       "    </tr>\n",
       "    <tr>\n",
       "      <th>1</th>\n",
       "      <td>Load # Invoice Number Last Free Day Total Weig...</td>\n",
       "      <td>(PROD)loadmaster(1hr) 05/02/2024</td>\n",
       "      <td>English</td>\n",
       "    </tr>\n",
       "    <tr>\n",
       "      <th>2</th>\n",
       "      <td>Load # Invoice Number Last Free Day Total Weig...</td>\n",
       "      <td>(PROD)loasmater(30min) 05/02/2024</td>\n",
       "      <td>English</td>\n",
       "    </tr>\n",
       "    <tr>\n",
       "      <th>3</th>\n",
       "      <td>Load # Invoice Number Last Free Day Total Weig...</td>\n",
       "      <td>(PROD)loadmaster(15min) 05/02/2024</td>\n",
       "      <td>English</td>\n",
       "    </tr>\n",
       "    <tr>\n",
       "      <th>4</th>\n",
       "      <td>Load # Invoice Number Last Free Day Total Weig...</td>\n",
       "      <td>(PRE)15min 05/02/2024</td>\n",
       "      <td>English</td>\n",
       "    </tr>\n",
       "    <tr>\n",
       "      <th>...</th>\n",
       "      <td>...</td>\n",
       "      <td>...</td>\n",
       "      <td>...</td>\n",
       "    </tr>\n",
       "    <tr>\n",
       "      <th>12725</th>\n",
       "      <td>Thank you J\\n\\n \\n\\nPlease note that due to Pu...</td>\n",
       "      <td>RE: Cartage Advice / S2401820048-3 / Würselen</td>\n",
       "      <td>English</td>\n",
       "    </tr>\n",
       "    <tr>\n",
       "      <th>12728</th>\n",
       "      <td>Add freely.\\n\\n5/8:  +34\\n\\n5/9:  +38\\n\\n5/10:...</td>\n",
       "      <td>Capacity today is +50, 5/7/24</td>\n",
       "      <td>English</td>\n",
       "    </tr>\n",
       "    <tr>\n",
       "      <th>12729</th>\n",
       "      <td>I do not see that it was ever sent so I would ...</td>\n",
       "      <td>RE: RPAC E104664</td>\n",
       "      <td>English</td>\n",
       "    </tr>\n",
       "    <tr>\n",
       "      <th>12730</th>\n",
       "      <td>Attached is the POD for the following containe...</td>\n",
       "      <td>POD -  MINTURN NUT COMPANY  -  NYKU4330400</td>\n",
       "      <td>English</td>\n",
       "    </tr>\n",
       "    <tr>\n",
       "      <th>12731</th>\n",
       "      <td>\\n\\n \\n\\nMit freundlichen Grüßen\\n\\nTobias Ab...</td>\n",
       "      <td>Leerchassis DUI gesucht / morgen laden / voll ...</td>\n",
       "      <td>English</td>\n",
       "    </tr>\n",
       "  </tbody>\n",
       "</table>\n",
       "<p>10162 rows × 3 columns</p>\n",
       "</div>"
      ],
      "text/plain": [
       "                                              email_body  \\\n",
       "0      Add one of these board seats to your credentia...   \n",
       "1      Load # Invoice Number Last Free Day Total Weig...   \n",
       "2      Load # Invoice Number Last Free Day Total Weig...   \n",
       "3      Load # Invoice Number Last Free Day Total Weig...   \n",
       "4      Load # Invoice Number Last Free Day Total Weig...   \n",
       "...                                                  ...   \n",
       "12725  Thank you J\\n\\n \\n\\nPlease note that due to Pu...   \n",
       "12728  Add freely.\\n\\n5/8:  +34\\n\\n5/9:  +38\\n\\n5/10:...   \n",
       "12729  I do not see that it was ever sent so I would ...   \n",
       "12730  Attached is the POD for the following containe...   \n",
       "12731   \\n\\n \\n\\nMit freundlichen Grüßen\\n\\nTobias Ab...   \n",
       "\n",
       "                                                 subject language  \n",
       "0              5 Boards to Boost Your Credentials in May  English  \n",
       "1                       (PROD)loadmaster(1hr) 05/02/2024  English  \n",
       "2                      (PROD)loasmater(30min) 05/02/2024  English  \n",
       "3                     (PROD)loadmaster(15min) 05/02/2024  English  \n",
       "4                                  (PRE)15min 05/02/2024  English  \n",
       "...                                                  ...      ...  \n",
       "12725      RE: Cartage Advice / S2401820048-3 / Würselen  English  \n",
       "12728                      Capacity today is +50, 5/7/24  English  \n",
       "12729                                   RE: RPAC E104664  English  \n",
       "12730         POD -  MINTURN NUT COMPANY  -  NYKU4330400  English  \n",
       "12731  Leerchassis DUI gesucht / morgen laden / voll ...  English  \n",
       "\n",
       "[10162 rows x 3 columns]"
      ]
     },
     "execution_count": 49,
     "metadata": {},
     "output_type": "execute_result"
    }
   ],
   "source": [
    "df[df['language'] == 'English']"
   ]
  },
  {
   "cell_type": "code",
   "execution_count": null,
   "id": "6fd62797-42e6-4caa-8b6e-6f6fe58e2216",
   "metadata": {},
   "outputs": [],
   "source": []
  }
 ],
 "metadata": {
  "kernelspec": {
   "display_name": "Python 3 (ipykernel)",
   "language": "python",
   "name": "python3"
  },
  "language_info": {
   "codemirror_mode": {
    "name": "ipython",
    "version": 3
   },
   "file_extension": ".py",
   "mimetype": "text/x-python",
   "name": "python",
   "nbconvert_exporter": "python",
   "pygments_lexer": "ipython3",
   "version": "3.10.14"
  }
 },
 "nbformat": 4,
 "nbformat_minor": 5
}
